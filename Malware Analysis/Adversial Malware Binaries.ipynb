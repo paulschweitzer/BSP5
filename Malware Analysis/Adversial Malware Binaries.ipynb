{
 "cells": [
  {
   "cell_type": "code",
   "execution_count": 2,
   "metadata": {},
   "outputs": [],
   "source": [
    "import numpy as np"
   ]
  },
  {
   "cell_type": "code",
   "execution_count": 6,
   "metadata": {},
   "outputs": [],
   "source": [
    "from keras import optimizers\n",
    "from keras import Input\n",
    "from keras import Model\n",
    "from keras.layers import Conv1D, Activation, multiply, GlobalMaxPool1D, Dense\n",
    "\n",
    "my_opt = optimizers.SGD(learning_rate=0.01, weight_decay=1e-5, nesterov=True)"
   ]
  },
  {
   "cell_type": "code",
   "execution_count": 7,
   "metadata": {},
   "outputs": [
    {
     "name": "stderr",
     "output_type": "stream",
     "text": [
      "2024-11-08 00:49:13.051825: W external/local_xla/xla/tsl/framework/cpu_allocator_impl.cc:83] Allocation of 245760000 exceeds 10% of free system memory.\n",
      "2024-11-08 00:49:13.138340: W external/local_xla/xla/tsl/framework/cpu_allocator_impl.cc:83] Allocation of 245760000 exceeds 10% of free system memory.\n",
      "2024-11-08 00:49:13.181765: W external/local_xla/xla/tsl/framework/cpu_allocator_impl.cc:83] Allocation of 245760000 exceeds 10% of free system memory.\n",
      "2024-11-08 00:49:13.250306: W external/local_xla/xla/tsl/framework/cpu_allocator_impl.cc:83] Allocation of 245760000 exceeds 10% of free system memory.\n",
      "2024-11-08 00:49:13.325671: W external/local_xla/xla/tsl/framework/cpu_allocator_impl.cc:83] Allocation of 245760000 exceeds 10% of free system memory.\n"
     ]
    }
   ],
   "source": [
    "max_size = 15000\n",
    "inputs = Input(shape=(8, max_size))\n",
    "\n",
    "conv1 = Conv1D(kernel_size=(128), filters=32, strides=(128), padding='same')(inputs)\n",
    "conv2 = Conv1D(kernel_size=(128), filters=32, strides=(128), padding='same')(inputs)\n",
    "a = Activation('sigmoid', name='sigmoid')(conv2)\n",
    "mul = multiply([conv1, a])\n",
    "b = Activation('relu', name='relu')(mul)\n",
    "p = GlobalMaxPool1D()(b)\n",
    "d = Dense(16)(p)\n",
    "predictions = Dense(1, activation='sigmoid')(d)\n",
    "model = Model(inputs=inputs, outputs=predictions)"
   ]
  }
 ],
 "metadata": {
  "kernelspec": {
   "display_name": "nlp",
   "language": "python",
   "name": "python3"
  },
  "language_info": {
   "codemirror_mode": {
    "name": "ipython",
    "version": 3
   },
   "file_extension": ".py",
   "mimetype": "text/x-python",
   "name": "python",
   "nbconvert_exporter": "python",
   "pygments_lexer": "ipython3",
   "version": "3.12.7"
  }
 },
 "nbformat": 4,
 "nbformat_minor": 2
}
